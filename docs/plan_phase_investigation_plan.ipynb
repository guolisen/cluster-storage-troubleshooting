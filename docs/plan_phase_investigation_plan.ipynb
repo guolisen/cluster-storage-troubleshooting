{
 "cells": [
  {
   "cell_type": "markdown",
   "metadata": {},
   "source": [
    "# Plan Phase: Investigation Plan Generation\n",
    "\n",
    "## Overview\n",
    "\n",
    "The Plan Phase generates an Investigation Plan that guides the troubleshooting process in Phase1. It analyzes the Knowledge Graph from Phase0 and creates a structured plan with specific steps to investigate the volume I/O issues.\n",
    "\n",
    "### Key Components\n",
    "\n",
    "- **InvestigationPlanner**: Orchestrates the plan generation process\n",
    "- **Rule-based Plan Generator**: Creates initial investigation steps based on predefined rules\n",
    "- **Static Plan Steps**: Incorporates mandatory steps from `static_plan_step.json`\n",
    "- **LLM Plan Generator**: Refines and enhances the plan using an LLM without tool invocation\n",
    "\n",
    "### Three-Step Process\n",
    "\n",
    "1. **Rule-based preliminary steps**: Generate critical initial investigation steps\n",
    "2. **Static plan steps integration**: Add mandatory steps from `static_plan_step.json`\n",
    "3. **LLM refinement**: Refine and supplement the plan using an LLM without tool invocation"
   ]
  },
  {
   "cell_type": "code",
   "execution_count": 1,
   "metadata": {},
   "outputs": [],
   "source": [
    "# Import necessary libraries\n",
    "import json\n",
    "import os\n",
    "from typing import Dict, List, Any, Optional\n",
    "\n",
    "# Import mock data for demonstration\n",
    "import sys\n",
    "sys.path.append('../')\n",
    "from tests.mock_knowledge_graph import create_mock_knowledge_graph"
   ]
  },
  {
   "cell_type": "markdown",
   "metadata": {},
   "source": [
    "## Mock Static Plan Steps\n",
    "\n",
    "First, let's create a mock version of the static plan steps that would normally be loaded from `static_plan_step.json`."
   ]
  },
  {
   "cell_type": "code",
   "execution_count": 2,
   "metadata": {},
   "outputs": [],
   "source": [
    "# Mock static plan steps\n",
    "MOCK_STATIC_PLAN_STEPS = [\n",
    "    {\n",
    "        \"step\": \"S1\",\n",
    "        \"description\": \"Check for primary issues\",\n",
    "        \"tool\": \"kg_get_all_issues\",\n",
    "        \"arguments\": {\"severity\": \"primary\"},\n",
    "        \"expected\": \"Primary issues in the system\"\n",
    "    },\n",
    "    {\n",
    "        \"step\": \"S2\",\n",
    "        \"description\": \"Analyze issues\",\n",
    "        \"tool\": \"kg_analyze_issues\",\n",
    "        \"arguments\": {},\n",
    "        \"expected\": \"Root cause analysis and patterns\"\n",
    "    }\n",
    "]\n",
    "\n",
    "# Mock fallback steps\n",
    "MOCK_FALLBACK_STEPS = [\n",
    "    {\n",
    "        \"step\": \"F1\",\n",
    "        \"description\": \"Print Knowledge Graph\",\n",
    "        \"tool\": \"kg_print_graph\",\n",
    "        \"arguments\": {\"include_details\": True, \"include_issues\": True},\n",
    "        \"expected\": \"Complete system visualization\",\n",
    "        \"trigger\": \"kg_get_entity_info_failed\"\n",
    "    }\n",
    "]"
   ]
  },
  {
   "cell_type": "code",
   "execution_count": 3,
   "metadata": {},
   "outputs": [],
   "source": [
    "class MockInvestigationPlanner:\n",
    "    \"\"\"Mock implementation of Investigation Planner\"\"\"\n",
    "    \n",
    "    def __init__(self, knowledge_graph, config_data=None):\n",
    "        self.knowledge_graph = knowledge_graph\n",
    "        self.config_data = config_data or {}\n",
    "        print(\"Initializing Investigation Planner...\")\n",
    "    \n",
    "    def generate_investigation_plan(self, pod_name, namespace, volume_path, message_list=None):\n",
    "        print(f\"Generating investigation plan for pod {namespace}/{pod_name}\")\n",
    "        \n",
    "        # Generate steps\n",
    "        steps = [\n",
    "            {\n",
    "                \"step\": \"1\",\n",
    "                \"description\": \"Get pod details\",\n",
    "                \"tool\": \"kg_get_entity_info\",\n",
    "                \"arguments\": {\"entity_type\": \"Pod\", \"id\": f\"gnode:Pod:{namespace}/{pod_name}\"},\n",
    "                \"expected\": \"Pod configuration and status\"\n",
    "            },\n",
    "            {\n",
    "                \"step\": \"2\",\n",
    "                \"description\": \"Check related PVC\",\n",
    "                \"tool\": \"kg_find_path\",\n",
    "                \"arguments\": {\n",
    "                    \"source_entity_type\": \"Pod\",\n",
    "                    \"source_id\": f\"gnode:Pod:{namespace}/{pod_name}\",\n",
    "                    \"target_entity_type\": \"PVC\",\n",
    "                    \"target_id\": \"*\"\n",
    "                },\n",
    "                \"expected\": \"Path from Pod to PVC\"\n",
    "            }\n",
    "        ]\n",
    "        \n",
    "        # Format the plan\n",
    "        formatted_plan = f\"Investigation Plan:\\nTarget: Pod {namespace}/{pod_name}, Volume Path: {volume_path}\\nGenerated Steps: {len(steps)} steps\\n\\n\"\n",
    "        \n",
    "        for step in steps:\n",
    "            formatted_plan += f\"Step {step['step']}: {step['description']} | Tool: {step['tool']} | Expected: {step['expected']}\\n\"\n",
    "        \n",
    "        return formatted_plan, message_list"
   ]
  },
  {
   "cell_type": "markdown",
   "metadata": {},
   "source": [
    "## Running the Plan Phase\n",
    "\n",
    "Now let's run the Plan Phase with our mock implementation."
   ]
  },
  {
   "cell_type": "code",
   "execution_count": 4,
   "metadata": {},
   "outputs": [
    {
     "name": "stdout",
     "output_type": "stream",
     "text": [
      "Initializing Investigation Planner...\n",
      "Generating investigation plan for pod default/test-pod\n"
     ]
    }
   ],
   "source": [
    "# Create a mock knowledge graph\n",
    "knowledge_graph = create_mock_knowledge_graph()\n",
    "\n",
    "# Define the target pod, namespace, and volume path\n",
    "target_pod = \"test-pod\"\n",
    "target_namespace = \"default\"\n",
    "target_volume_path = \"/var/lib/kubelet/pods/pod-123-456/volumes/kubernetes.io~csi/test-pv/mount\"\n",
    "\n",
    "# Define configuration data\n",
    "config_data = {\n",
    "    \"plan_phase\": {\n",
    "        \"save_plan\": True\n",
    "    }\n",
    "}\n",
    "\n",
    "# Initialize the investigation planner\n",
    "planner = MockInvestigationPlanner(knowledge_graph, config_data)\n",
    "\n",
    "# Generate the investigation plan\n",
    "investigation_plan, _ = planner.generate_investigation_plan(target_pod, target_namespace, target_volume_path)"
   ]
  },
  {
   "cell_type": "code",
   "execution_count": 5,
   "metadata": {},
   "outputs": [
    {
     "name": "stdout",
     "output_type": "stream",
     "text": [
      "Investigation Plan:\n",
      "Target: Pod default/test-pod, Volume Path: /var/lib/kubelet/pods/pod-123-456/volumes/kubernetes.io~csi/test-pv/mount\n",
      "Generated Steps: 2 steps\n",
      "\n",
      "Step 1: Get pod details | Tool: kg_get_entity_info | Expected: Pod configuration and status\n",
      "Step 2: Check related PVC | Tool: kg_find_path | Expected: Path from Pod to PVC\n",
      "\n"
     ]
    }
   ],
   "source": [
    "# Display the investigation plan\n",
    "print(investigation_plan)"
   ]
  },
  {
   "cell_type": "markdown",
   "metadata": {},
   "source": [
    "## Sample Investigation Plan\n",
    "\n",
    "A complete investigation plan would include more steps and fallback steps. Here's an example of a more comprehensive plan:"
   ]
  },
  {
   "cell_type": "code",
   "execution_count": 6,
   "metadata": {},
   "outputs": [
    {
     "name": "stdout",
     "output_type": "stream",
     "text": [
      "\n",
      "Investigation Plan:\n",
      "Target: Pod default/example-pod, Volume Path: /var/lib/kubelet/pods/123/volumes/kubernetes.io~csi/pvc-abc/mount\n",
      "Generated Steps: 8 steps\n",
      "\n",
      "Step 1: Get pod details | Tool: kg_get_entity_info(entity_type='Pod', id='gnode:Pod:default/example-pod') | Expected: Pod configuration and status\n",
      "Step 2: Check related PVC | Tool: kg_find_path(source_entity_type='Pod', source_id='gnode:Pod:default/example-pod', target_entity_type='PVC', target_id='*') | Expected: Path from Pod to PVC\n",
      "Step 3: Get PVC details | Tool: kg_get_entity_info(entity_type='PVC', id='gnode:PVC:default/example-pvc') | Expected: PVC configuration and status\n",
      "Step 4: Check related PV | Tool: kg_find_path(source_entity_type='PVC', source_id='gnode:PVC:default/example-pvc', target_entity_type='PV', target_id='*') | Expected: Path from PVC to PV\n",
      "Step 5: Get PV details | Tool: kg_get_entity_info(entity_type='PV', id='gnode:PV:pv-example') | Expected: PV configuration and status\n",
      "Step 6: Check node status | Tool: kg_get_entity_info(entity_type='Node', id='gnode:Node:worker-1') | Expected: Node status and conditions\n",
      "Step 7: Check for issues | Tool: kg_get_all_issues(severity='primary') | Expected: Primary issues in the system\n",
      "Step 8: Analyze issues | Tool: kg_analyze_issues() | Expected: Root cause analysis and patterns\n",
      "\n",
      "Fallback Steps (if main steps fail):\n",
      "Step F1: Print Knowledge Graph | Tool: kg_print_graph(include_details=True, include_issues=True) | Expected: Complete system visualization | Trigger: kg_get_entity_info_failed\n",
      "Step F2: Check system logs | Tool: kubectl_logs(pod_name='example-pod', namespace='default') | Expected: Pod logs for error messages | Trigger: kg_get_all_issues_failed\n",
      "\n"
     ]
    }
   ],
   "source": [
    "sample_plan = \"\"\"\n",
    "Investigation Plan:\n",
    "Target: Pod default/example-pod, Volume Path: /var/lib/kubelet/pods/123/volumes/kubernetes.io~csi/pvc-abc/mount\n",
    "Generated Steps: 8 steps\n",
    "\n",
    "Step 1: Get pod details | Tool: kg_get_entity_info(entity_type='Pod', id='gnode:Pod:default/example-pod') | Expected: Pod configuration and status\n",
    "Step 2: Check related PVC | Tool: kg_find_path(source_entity_type='Pod', source_id='gnode:Pod:default/example-pod', target_entity_type='PVC', target_id='*') | Expected: Path from Pod to PVC\n",
    "Step 3: Get PVC details | Tool: kg_get_entity_info(entity_type='PVC', id='gnode:PVC:default/example-pvc') | Expected: PVC configuration and status\n",
    "Step 4: Check related PV | Tool: kg_find_path(source_entity_type='PVC', source_id='gnode:PVC:default/example-pvc', target_entity_type='PV', target_id='*') | Expected: Path from PVC to PV\n",
    "Step 5: Get PV details | Tool: kg_get_entity_info(entity_type='PV', id='gnode:PV:pv-example') | Expected: PV configuration and status\n",
    "Step 6: Check node status | Tool: kg_get_entity_info(entity_type='Node', id='gnode:Node:worker-1') | Expected: Node status and conditions\n",
    "Step 7: Check for issues | Tool: kg_get_all_issues(severity='primary') | Expected: Primary issues in the system\n",
    "Step 8: Analyze issues | Tool: kg_analyze_issues() | Expected: Root cause analysis and patterns\n",
    "\n",
    "Fallback Steps (if main steps fail):\n",
    "Step F1: Print Knowledge Graph | Tool: kg_print_graph(include_details=True, include_issues=True) | Expected: Complete system visualization | Trigger: kg_get_entity_info_failed\n",
    "Step F2: Check system logs | Tool: kubectl_logs(pod_name='example-pod', namespace='default') | Expected: Pod logs for error messages | Trigger: kg_get_all_issues_failed\n",
    "\"\"\"\n",
    "\n",
    "print(sample_plan)"
   ]
  },
  {
   "cell_type": "markdown",
   "metadata": {},
   "source": [
    "## Summary\n",
    "\n",
    "The Plan Phase is responsible for generating an Investigation Plan that guides the troubleshooting process in Phase1. It follows a three-step process:\n",
    "\n",
    "1. Rule-based preliminary steps: Generate critical initial investigation steps\n",
    "2. Static plan steps integration: Add mandatory steps from static_plan_step.json\n",
    "3. LLM refinement: Refine and supplement the plan using an LLM without tool invocation\n",
    "\n",
    "The output of the Plan Phase is a structured Investigation Plan that includes:\n",
    "\n",
    "- Main investigation steps with tools, arguments, and expected outcomes\n",
    "- Fallback steps that can be triggered if main steps fail\n",
    "\n",
    "This Investigation Plan serves as the roadmap for Phase1, which will execute the plan to identify the root cause of the volume I/O issues."
   ]
  }
 ],
 "metadata": {
  "kernelspec": {
   "display_name": ".venv",
   "language": "python",
   "name": "python3"
  },
  "language_info": {
   "codemirror_mode": {
    "name": "ipython",
    "version": 3
   },
   "file_extension": ".py",
   "mimetype": "text/x-python",
   "name": "python",
   "nbconvert_exporter": "python",
   "pygments_lexer": "ipython3",
   "version": "3.13.3"
  }
 },
 "nbformat": 4,
 "nbformat_minor": 4
}
