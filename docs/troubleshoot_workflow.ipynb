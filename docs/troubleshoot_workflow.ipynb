{
 "cells": [
  {
   "cell_type": "markdown",
   "metadata": {},
   "source": [
    "# Kubernetes Volume I/O Error Troubleshooting Workflow\n",
    "\n",
    "## Introduction\n",
    "\n",
    "This notebook documents the workflow of `troubleshoot.py`, a comprehensive system designed to troubleshoot Kubernetes pod volume I/O failures. The system uses a phase-based approach with LangGraph frameworks to systematically identify and resolve storage issues in Kubernetes clusters.\n",
    "\n",
    "The troubleshooting system consists of four distinct phases:\n",
    "\n",
    "1. **Phase0**: Information Collection - Builds a Knowledge Graph with system information\n",
    "2. **Plan Phase**: Generates an Investigation Plan using rule-based and LLM approaches\n",
    "3. **Phase1**: ReAct Investigation - Executes the Investigation Plan to produce a Fix Plan\n",
    "4. **Phase2**: Remediation - Executes the Fix Plan to resolve identified issues\n",
    "\n",
    "This notebook aims to provide a clear understanding of each phase's purpose, components, and implementation, as well as visualize the workflow using Mermaid diagrams."
   ]
  },
  {
   "cell_type": "markdown",
   "metadata": {},
   "source": [
    "## Main Workflow\n",
    "\n",
    "The end-to-end workflow of `troubleshoot.py` orchestrates the four phases sequentially, with each phase building on the outputs of the previous phase:\n",
    "\n",
    "1. **Phase0** collects comprehensive system information and builds a Knowledge Graph\n",
    "2. **Plan Phase** analyzes the Knowledge Graph to generate an Investigation Plan\n",
    "3. **Phase1** executes the Investigation Plan using LangGraph to identify root causes and produce a Fix Plan\n",
    "4. **Phase2** executes the Fix Plan to remediate the identified issues (can be skipped based on Phase1 output)\n",
    "\n",
    "The workflow includes decision points where Phase2 may be skipped if no issues are detected or if manual intervention is required."
   ]
  },
  {
   "cell_type": "code",
   "execution_count": 3,
   "metadata": {},
   "outputs": [
    {
     "data": {
      "text/markdown": [
       "\n",
       "```mermaid\n",
       "graph TD\n",
       "    Start([Start]) --> Phase0[\"Phase0: Information Collection\n",
       "(Build Knowledge Graph)\"]\n",
       "    Phase0 --> |\"Knowledge Graph\"| PlanPhase[\"Plan Phase:\n",
       "Generate Investigation Plan\"]\n",
       "    PlanPhase --> |\"Investigation Plan\"| Phase1[\"Phase1: ReAct Investigation\n",
       "(Execute Plan, Identify Root Cause)\"]\n",
       "    Phase1 --> Decision{\"Skip Phase2?\n",
       "(No issues or\n",
       "Manual intervention)\"}\n",
       "    Decision --> |\"Yes\"| End([End])\n",
       "    Decision --> |\"No\n",
       "(Fix Plan)\"| Phase2[\"Phase2: Remediation\n",
       "(Execute Fix Plan)\"]\n",
       "    Phase2 --> End\n",
       "```\n"
      ],
      "text/plain": [
       "<IPython.core.display.Markdown object>"
      ]
     },
     "metadata": {},
     "output_type": "display_data"
    }
   ],
   "source": [
    "# Main Workflow Visualization\n",
    "from IPython.display import display, Markdown\n",
    "\n",
    "main_workflow = \"\"\"\n",
    "```mermaid\n",
    "graph TD\n",
    "    Start([Start]) --> Phase0[\"Phase0: Information Collection\\n(Build Knowledge Graph)\"]\n",
    "    Phase0 --> |\"Knowledge Graph\"| PlanPhase[\"Plan Phase:\\nGenerate Investigation Plan\"]\n",
    "    PlanPhase --> |\"Investigation Plan\"| Phase1[\"Phase1: ReAct Investigation\\n(Execute Plan, Identify Root Cause)\"]\n",
    "    Phase1 --> Decision{\"Skip Phase2?\\n(No issues or\\nManual intervention)\"}\n",
    "    Decision --> |\"Yes\"| End([End])\n",
    "    Decision --> |\"No\\n(Fix Plan)\"| Phase2[\"Phase2: Remediation\\n(Execute Fix Plan)\"]\n",
    "    Phase2 --> End\n",
    "```\n",
    "\"\"\"\n",
    "\n",
    "display(Markdown(main_workflow))"
   ]
  },
  {
   "cell_type": "markdown",
   "metadata": {},
   "source": [
    "## Phase0: Information Collection\n",
    "\n",
    "### Purpose\n",
    "\n",
    "Phase0 is responsible for collecting comprehensive diagnostic information about the Kubernetes cluster, focusing on the pod with volume I/O errors. This phase builds a Knowledge Graph that serves as the foundation for the subsequent phases.\n",
    "\n",
    "### Key Components\n",
    "\n",
    "- **ComprehensiveInformationCollector**: Collects data from various sources including Kubernetes API, system logs, and hardware diagnostics\n",
    "- **Knowledge Graph**: A graph-based representation of system entities and their relationships\n",
    "- **Tool Executors**: Various tools in `/information_collector/tool_executors.py` that collect specific types of information\n",
    "\n",
    "### Inputs and Outputs\n",
    "\n",
    "- **Inputs**: Pod name, namespace, volume path\n",
    "- **Outputs**: \n",
    "  - Knowledge Graph with system entities and relationships\n",
    "  - Collected diagnostic information (pod info, PVC info, PV info, node info, etc.)\n",
    "  - Issues detected during information collection"
   ]
  },
  {
   "cell_type": "markdown",
   "metadata": {},
   "source": [
    "## Plan Phase: Investigation Plan Generation\n",
    "\n",
    "### Purpose\n",
    "\n",
    "The Plan Phase generates an Investigation Plan that guides the troubleshooting process in Phase1. It analyzes the Knowledge Graph from Phase0 and creates a structured plan with specific steps to investigate the volume I/O issues.\n",
    "\n",
    "### Key Components\n",
    "\n",
    "- **InvestigationPlanner**: Orchestrates the plan generation process\n",
    "- **Rule-based Plan Generator**: Creates initial investigation steps based on predefined rules\n",
    "- **Static Plan Steps**: Incorporates mandatory steps from `static_plan_step.json`\n",
    "- **LLM Plan Generator**: Refines and enhances the plan using an LLM without tool invocation\n",
    "\n",
    "### Three-Step Process\n",
    "\n",
    "1. **Rule-based preliminary steps**: Generate critical initial investigation steps\n",
    "2. **Static plan steps integration**: Add mandatory steps from `static_plan_step.json`\n",
    "3. **LLM refinement**: Refine and supplement the plan using an LLM without tool invocation\n",
    "\n",
    "### Inputs and Outputs\n",
    "\n",
    "- **Inputs**: Knowledge Graph from Phase0, pod name, namespace, volume path\n",
    "- **Outputs**: \n",
    "  - Investigation Plan as a formatted string\n",
    "  - Structured representation of the plan with steps and fallback steps"
   ]
  },
  {
   "cell_type": "code",
   "execution_count": null,
   "metadata": {},
   "outputs": [],
   "source": [
    "# Sample Investigation Plan format\n",
    "\n",
    "sample_plan = \"\"\"\n",
    "Investigation Plan:\n",
    "Target: Pod default/example-pod, Volume Path: /var/lib/kubelet/pods/123/volumes/kubernetes.io~csi/pvc-abc/mount\n",
    "Generated Steps: 8 steps\n",
    "\n",
    "Step 1: Get pod details | Tool: kg_get_entity_info(entity_type='Pod', id='gnode:Pod:default/example-pod') | Expected: Pod configuration and status\n",
    "Step 2: Check related PVC | Tool: kg_find_path(source_entity_type='Pod', source_id='gnode:Pod:default/example-pod', target_entity_type='PVC', target_id='*') | Expected: Path from Pod to PVC\n",
    "Step 3: Get PVC details | Tool: kg_get_entity_info(entity_type='PVC', id='gnode:PVC:default/example-pvc') | Expected: PVC configuration and status\n",
    "Step 4: Check related PV | Tool: kg_find_path(source_entity_type='PVC', source_id='gnode:PVC:default/example-pvc', target_entity_type='PV', target_id='*') | Expected: Path from PVC to PV\n",
    "Step 5: Get PV details | Tool: kg_get_entity_info(entity_type='PV', id='gnode:PV:pv-example') | Expected: PV configuration and status\n",
    "Step 6: Check node status | Tool: kg_get_entity_info(entity_type='Node', id='gnode:Node:worker-1') | Expected: Node status and conditions\n",
    "Step 7: Check for issues | Tool: kg_get_all_issues(severity='primary') | Expected: Primary issues in the system\n",
    "Step 8: Analyze issues | Tool: kg_analyze_issues() | Expected: Root cause analysis and patterns\n",
    "\n",
    "Fallback Steps (if main steps fail):\n",
    "Step F1: Print Knowledge Graph | Tool: kg_print_graph(include_details=True, include_issues=True) | Expected: Complete system visualization | Trigger: kg_get_entity_info_failed\n",
    "Step F2: Check system logs | Tool: kubectl_logs(pod_name='example-pod', namespace='default') | Expected: Pod logs for error messages | Trigger: kg_get_all_issues_failed\n",
    "\"\"\"\n",
    "\n",
    "print(sample_plan)"
   ]
  },
  {
   "cell_type": "markdown",
   "metadata": {},
   "source": [
    "## Phase1: ReAct Investigation\n",
    "\n",
    "### Purpose\n",
    "\n",
    "Phase1 executes the Investigation Plan generated in the Plan Phase using a LangGraph ReAct framework. It actively investigates the volume I/O issues by executing tools in a sequential manner, analyzing the results, and producing a Fix Plan.\n",
    "\n",
    "### Key Components\n",
    "\n",
    "- **LangGraph StateGraph**: Manages the flow of the investigation process\n",
    "- **SerialToolNode**: Executes tools sequentially based on the Investigation Plan\n",
    "- **Knowledge Graph Tools**: Tools for querying and analyzing the Knowledge Graph\n",
    "- **Kubernetes Tools**: Tools for interacting with the Kubernetes API\n",
    "\n",
    "### Inputs and Outputs\n",
    "\n",
    "- **Inputs**: \n",
    "  - Investigation Plan from Plan Phase\n",
    "  - Knowledge Graph and collected information from Phase0\n",
    "  - Pod name, namespace, volume path\n",
    "- **Outputs**: \n",
    "  - Fix Plan with identified root causes and remediation steps\n",
    "  - Skip Phase2 flag (true if no issues detected or manual intervention required)"
   ]
  },
  {
   "cell_type": "code",
   "execution_count": 2,
   "metadata": {},
   "outputs": [
    {
     "data": {
      "text/markdown": [
       "\n",
       "```mermaid\n",
       "graph TD\n",
       "    START([Start]) --> call_model[\"call_model\n",
       "(LLM reasoning)\"];\n",
       "    call_model --> tools_condition{\"tools_condition\n",
       "(Tool requested?)\"}\n",
       "    tools_condition -->|\"Tool requested\"| serial_tools[\"SerialToolNode\n",
       "(Sequential tool execution)\"]\n",
       "    tools_condition -->|\"No tool\n",
       "requested\"| check_end[\"check_end\n",
       "(End condition check)\"]\n",
       "    tools_condition -->|\"end\"| check_end\n",
       "    serial_tools --> call_model\n",
       "    check_end -->|\"continue\"| call_model\n",
       "    check_end -->|\"end\"| END([End])\n",
       "```\n"
      ],
      "text/plain": [
       "<IPython.core.display.Markdown object>"
      ]
     },
     "metadata": {},
     "output_type": "display_data"
    }
   ],
   "source": [
    "# Phase1 LangGraph Visualization\n",
    "from IPython.display import display, Markdown\n",
    "\n",
    "phase1_graph = \"\"\"\n",
    "```mermaid\n",
    "graph TD\n",
    "    START([Start]) --> call_model[\"call_model\\n(LLM reasoning)\"];\n",
    "    call_model --> tools_condition{\"tools_condition\\n(Tool requested?)\"}\n",
    "    tools_condition -->|\"Tool requested\"| serial_tools[\"SerialToolNode\\n(Sequential tool execution)\"]\n",
    "    tools_condition -->|\"No tool\\nrequested\"| check_end[\"check_end\\n(End condition check)\"]\n",
    "    tools_condition -->|\"end\"| check_end\n",
    "    serial_tools --> call_model\n",
    "    check_end -->|\"continue\"| call_model\n",
    "    check_end -->|\"end\"| END([End])\n",
    "```\n",
    "\"\"\"\n",
    "\n",
    "display(Markdown(phase1_graph))"
   ]
  },
  {
   "cell_type": "markdown",
   "metadata": {},
   "source": [
    "## Phase2: Remediation\n",
    "\n",
    "### Purpose\n",
    "\n",
    "Phase2 executes the Fix Plan generated in Phase1 to remediate the identified issues. It uses a LangGraph workflow similar to Phase1 but with access to additional tools that can modify the system state.\n",
    "\n",
    "### Key Components\n",
    "\n",
    "- **LangGraph StateGraph**: Manages the flow of the remediation process\n",
    "- **SerialToolNode**: Executes remediation tools sequentially based on the Fix Plan\n",
    "- **Action Tools**: Tools for modifying system state (e.g., fixing file systems, restarting services)\n",
    "- **Validation Tools**: Tools for validating that the remediation was successful\n",
    "\n",
    "### Inputs and Outputs\n",
    "\n",
    "- **Inputs**: \n",
    "  - Fix Plan from Phase1\n",
    "  - Knowledge Graph and collected information from Phase0\n",
    "- **Outputs**: \n",
    "  - Remediation result with actions taken and validation status\n",
    "  - Recommendations for any remaining issues that require manual intervention"
   ]
  },
  {
   "cell_type": "code",
   "execution_count": 3,
   "metadata": {},
   "outputs": [
    {
     "data": {
      "text/markdown": [
       "\n",
       "```mermaid\n",
       "graph TD\n",
       "    START([Start]) --> call_model[\"call_model\n",
       "(LLM reasoning)\"];\n",
       "    call_model --> tools_condition{\"tools_condition\n",
       "(Tool requested?)\"}\n",
       "    tools_condition -->|\"Tool requested\"| serial_tools[\"SerialToolNode\n",
       "(Sequential tool execution)\"]\n",
       "    tools_condition -->|\"No tool\n",
       "requested\"| check_end[\"check_end\n",
       "(End condition check)\"]\n",
       "    tools_condition -->|\"end\"| check_end\n",
       "    serial_tools --> call_model\n",
       "    check_end -->|\"continue\"| call_model\n",
       "    check_end -->|\"end\"| END([End])\n",
       "```\n"
      ],
      "text/plain": [
       "<IPython.core.display.Markdown object>"
      ]
     },
     "metadata": {},
     "output_type": "display_data"
    }
   ],
   "source": [
    "# Phase2 LangGraph Visualization\n",
    "from IPython.display import display, Markdown\n",
    "\n",
    "phase2_graph = \"\"\"\n",
    "```mermaid\n",
    "graph TD\n",
    "    START([Start]) --> call_model[\"call_model\\n(LLM reasoning)\"];\n",
    "    call_model --> tools_condition{\"tools_condition\\n(Tool requested?)\"}\n",
    "    tools_condition -->|\"Tool requested\"| serial_tools[\"SerialToolNode\\n(Sequential tool execution)\"]\n",
    "    tools_condition -->|\"No tool\\nrequested\"| check_end[\"check_end\\n(End condition check)\"]\n",
    "    tools_condition -->|\"end\"| check_end\n",
    "    serial_tools --> call_model\n",
    "    check_end -->|\"continue\"| call_model\n",
    "    check_end -->|\"end\"| END([End])\n",
    "```\n",
    "\"\"\"\n",
    "\n",
    "display(Markdown(phase2_graph))"
   ]
  },
  {
   "cell_type": "markdown",
   "metadata": {},
   "source": [
    "## Summary\n",
    "\n",
    "The `troubleshoot.py` system provides a comprehensive approach to troubleshooting Kubernetes pod volume I/O failures through its four-phase workflow:\n",
    "\n",
    "1. **Phase0** builds a Knowledge Graph with comprehensive system information\n",
    "2. **Plan Phase** generates a structured Investigation Plan\n",
    "3. **Phase1** executes the Investigation Plan to identify root causes and produce a Fix Plan\n",
    "4. **Phase2** executes the Fix Plan to remediate the identified issues\n",
    "\n",
    "The system leverages LangGraph frameworks for both Phase1 and Phase2, with a focus on sequential tool execution through the SerialToolNode component. This ensures that tools are executed in a specific order, allowing for dependencies between tool calls.\n",
    "\n",
    "The modular design and phase-based approach make the system extensible and maintainable, following the principles of good software design as outlined in Martin Fowler's *Refactoring* principles."
   ]
  }
 ],
 "metadata": {
  "kernelspec": {
   "display_name": ".venv",
   "language": "python",
   "name": "python3"
  },
  "language_info": {
   "codemirror_mode": {
    "name": "ipython",
    "version": 3
   },
   "file_extension": ".py",
   "mimetype": "text/x-python",
   "name": "python",
   "nbconvert_exporter": "python",
   "pygments_lexer": "ipython3",
   "version": "3.13.3"
  }
 },
 "nbformat": 4,
 "nbformat_minor": 4
}
